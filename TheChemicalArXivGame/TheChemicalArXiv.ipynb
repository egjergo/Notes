{
 "cells": [
  {
   "cell_type": "code",
   "execution_count": null,
   "id": "fb520fa8-9dc9-423a-8295-929862177344",
   "metadata": {},
   "outputs": [],
   "source": [
    "import random"
   ]
  },
  {
   "cell_type": "code",
   "execution_count": null,
   "id": "ec6a52e0-4f0d-41a9-a3d8-0d8b2aaf78e9",
   "metadata": {},
   "outputs": [],
   "source": [
    "def select_list(N_papers:int, N_speakers:int):\n",
    "    '''\n",
    "    Returns a numbered list of papers, sampled over the number of speakers.\n",
    "    \n",
    "    INPUT\n",
    "    N_papers      [int] number of papers on benty-fields\n",
    "    N_speakers    [int] number of speakers participating to the weekly activity\n",
    "    \n",
    "    RETURN\n",
    "                  [list] list of papers. The item number identifies the \n",
    "                  benty-fields order, while the position in the list\n",
    "                  identifies the speakers' order.\n",
    "    '''\n",
    "    return random.sample(range(1,N_papers), N_speakers)"
   ]
  },
  {
   "cell_type": "code",
   "execution_count": null,
   "id": "d27e94a4-b252-4fb0-b552-c46480722e40",
   "metadata": {},
   "outputs": [],
   "source": [
    "N_papers = int(input(\"How many papers in this week's benty-fields list?\"))\n",
    "N_speakers = int(input(\"How many speakers will participate this week?\"))\n",
    "print(select_list(N_papers, N_speakers))"
   ]
  }
 ],
 "metadata": {
  "kernelspec": {
   "display_name": "Python 3",
   "language": "python",
   "name": "python3"
  },
  "language_info": {
   "codemirror_mode": {
    "name": "ipython",
    "version": 3
   },
   "file_extension": ".py",
   "mimetype": "text/x-python",
   "name": "python",
   "nbconvert_exporter": "python",
   "pygments_lexer": "ipython3",
   "version": "3.8.9"
  },
  "vscode": {
   "interpreter": {
    "hash": "31f2aee4e71d21fbe5cf8b01ff0e069b9275f58929596ceb00d14d90e3e16cd6"
   }
  }
 },
 "nbformat": 4,
 "nbformat_minor": 5
}
