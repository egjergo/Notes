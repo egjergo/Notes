{
 "cells": [
  {
   "cell_type": "code",
   "execution_count": null,
   "id": "fb520fa8-9dc9-423a-8295-929862177344",
   "metadata": {},
   "outputs": [],
   "source": [
    "from itertools import combinations\n",
    "import numpy as np\n",
    "import random\n",
    "import math"
   ]
  },
  {
   "cell_type": "code",
   "execution_count": null,
   "id": "ec6a52e0-4f0d-41a9-a3d8-0d8b2aaf78e9",
   "metadata": {},
   "outputs": [],
   "source": [
    "def select_combination(N_papers:int, N_speakers:int):\n",
    "    '''\n",
    "    Produces the list of combinations of N_papers taken N_speakers at a time.\n",
    "    Returns a random item from the list.\n",
    "    \n",
    "    INPUT\n",
    "    N_papers      [int] number of papers on benty-fields\n",
    "    N_speakers    [int] number of speakers participating to the weekly activity\n",
    "    \n",
    "    VARIABLES \n",
    "    comb          [list] combinations\n",
    "    len_comb      [int] length of combination list\n",
    "    idx           [int] random index that picks a combination\n",
    "    \n",
    "    OUTPUT\n",
    "    comb[idx]     [list] list of papers. The number identifies the \n",
    "                  benty-fields order, while the position in the list\n",
    "                  identifies the speakers' order.\n",
    "    '''\n",
    "    comb = list(combinations(np.arange(1, N_papers+1), N_speakers))\n",
    "    len_comb = len(comb) #s.comb(30,10)\n",
    "    idx = math.floor(random.uniform(1, len_comb))\n",
    "    return comb[idx]#, len_comb"
   ]
  },
  {
   "cell_type": "code",
   "execution_count": null,
   "id": "d27e94a4-b252-4fb0-b552-c46480722e40",
   "metadata": {},
   "outputs": [],
   "source": [
    "    N_papers = int(input(\"How many papers are on this week's benty-fields list?\"))\n",
    "    N_speakers = int(input(\"How many speakers will participate this week?\"))\n",
    "    selected_comb = select_combination(N_papers, N_speakers)\n",
    "    print(selected_comb)"
   ]
  }
 ],
 "metadata": {
  "kernelspec": {
   "display_name": "Python 3",
   "language": "python",
   "name": "python3"
  },
  "language_info": {
   "codemirror_mode": {
    "name": "ipython",
    "version": 3
   },
   "file_extension": ".py",
   "mimetype": "text/x-python",
   "name": "python",
   "nbconvert_exporter": "python",
   "pygments_lexer": "ipython3",
   "version": "3.8.8"
  }
 },
 "nbformat": 4,
 "nbformat_minor": 5
}
